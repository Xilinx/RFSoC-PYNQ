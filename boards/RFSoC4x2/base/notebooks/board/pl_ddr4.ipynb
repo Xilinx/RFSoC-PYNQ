{
 "cells": [
  {
   "cell_type": "markdown",
   "metadata": {},
   "source": [
    "# Board PL DDR4\n",
    "----"
   ]
  },
  {
   "cell_type": "markdown",
   "metadata": {},
   "source": [
    "## Aim/s\n",
    "* Use `pynq` MMIO class to probe the PL DDR4 memory controller in the base overlay.\n",
    "\n",
    "## References\n",
    "* [PYNQ MMIO class](https://pynq.readthedocs.io/en/latest/pynq_libraries/mmio.html?highlight=MMIO)\n",
    "\n",
    "## Last revised\n",
    "* 27Jan21 - Initial revision\n",
    "* 28Apr23 - Random Memory Testing\n",
    "----"
   ]
  },
  {
   "cell_type": "markdown",
   "metadata": {},
   "source": [
    "## Probe DDR4 memory controller"
   ]
  },
  {
   "cell_type": "code",
   "execution_count": null,
   "metadata": {},
   "outputs": [],
   "source": [
    "import pynq\n",
    "from pynq.overlays.base import BaseOverlay\n",
    "base = BaseOverlay(\"base.bit\")"
   ]
  },
  {
   "cell_type": "code",
   "execution_count": null,
   "metadata": {},
   "outputs": [],
   "source": [
    "print(\"Physical Address: \", hex(base.mem_dict['ddr4_0']['phys_addr']))\n",
    "print(\"Address Range   : \", hex(base.mem_dict['ddr4_0']['addr_range']))"
   ]
  },
  {
   "cell_type": "code",
   "execution_count": null,
   "metadata": {},
   "outputs": [],
   "source": [
    "from pynq import MMIO\n",
    "import numpy as np\n",
    "baseAddress = base.mem_dict['ddr4_0']['phys_addr']\n",
    "mem_range = base.mem_dict['ddr4_0']['addr_range']\n",
    "midpoint = mem_range // 2\n",
    "mmioLO = MMIO(baseAddress, midpoint)\n",
    "dramShadowLMB = mmioLO.array[0:mmioLO.length].view(np.int32)\n",
    "mmioHI = MMIO(baseAddress + midpoint, midpoint)\n",
    "dramShadowHMB = mmioHI.array[0:mmioHI.length].view(np.int32)\n",
    "\n",
    "print(\"Partition PL-DRAM into upper and lower memory blocks\")\n",
    "print(\"LMB start: \", format(baseAddress, '016x'), \"\\tend: \", format(midpoint-1, '016x'))\n",
    "print(\"HMB start: \", format(baseAddress+midpoint, '016x'), \"\\tend: \", format(baseAddress + 2*midpoint-1,'016x'))"
   ]
  },
  {
   "cell_type": "markdown",
   "metadata": {},
   "source": [
    "The PL-DRAM is partitioned into two blocks, low (LMB) and high (HMB) memory."
   ]
  },
  {
   "cell_type": "markdown",
   "metadata": {},
   "source": [
    "# Random Memory Testing\n",
    "We next generate an array of random values to store into memory using MMIO.  The PS creates a random block of values _numSamples_ long in its memory and then copies them to the PL DRAM.  A CRC32 is calculated and compared.  If a mismatch is found, the index of the first difference is shown.\n",
    "\n",
    "The test can be customized by changing the number of samples (_numSamples_) and where in the overall PL-DRAM address map the samples are copied to to using the _dStart_ index.  The number of samples should be sufficiently long enough to exceed the processor caches but not too large otherwise run-time will be adversely effected."
   ]
  },
  {
   "cell_type": "code",
   "execution_count": null,
   "metadata": {},
   "outputs": [],
   "source": [
    "# Create the Source Buffer that will reside in PS memory space\n",
    "numSamples = 64 * (1<<20) #  256 MB\n",
    "srcBufferLMB = np.random.randint(np.iinfo(np.int32).max+1, size=numSamples, dtype=np.int32)\n",
    "srcBufferHMB = np.random.randint(np.iinfo(np.int32).max+1, size=numSamples, dtype=np.int32)"
   ]
  },
  {
   "cell_type": "code",
   "execution_count": null,
   "metadata": {},
   "outputs": [],
   "source": [
    "# Create set of start addresses to write to in PL DRAM\n",
    "dStart = [0] * 4\n",
    "dStart[0] = 0                           # start\n",
    "dStart[1] = midpoint // (4 * 4)         # middle lower\n",
    "dStart[2] = midpoint // (4 * 2)         # middle upper\n",
    "dStart[3] = midpoint // 4 - numSamples  # end"
   ]
  },
  {
   "cell_type": "code",
   "execution_count": null,
   "metadata": {},
   "outputs": [],
   "source": [
    "# Verify PL DRAM by writing to it and then reading back\n",
    "for dramShadow, srcBuffer, memory_type in [(dramShadowLMB, srcBufferLMB, \"Lower\"), (dramShadowHMB, srcBufferHMB, \"Upper\")]:\n",
    "    mismatch = 0\n",
    "    for N in range(len(dStart)):\n",
    "        dramShadow[dStart[N]:dStart[N]+len(srcBuffer)] = srcBuffer\n",
    "        if np.array_equal(srcBuffer, dramShadow[dStart[N]:dStart[N]+len(srcBuffer)]):\n",
    "            print(\".\", end='')\n",
    "        else:\n",
    "            index = np.argmax(srcBuffer != dramShadow[dStart[N]:dStart[N]+len(srcBuffer)])\n",
    "            print(f\"\\n{memory_type} Memory Test Failed: not matching starting at index: {index}\")\n",
    "            print(f\"\\t\\t{srcBuffer[index]} :: {dramShadow[dStart[N]+index]}\")\n",
    "            mismatch += 1\n",
    "            break\n",
    "    if (mismatch == 0):\n",
    "        print(f\"\\n{memory_type} Block Random Memory Test Verified\")"
   ]
  },
  {
   "cell_type": "markdown",
   "metadata": {},
   "source": [
    "---\n",
    "Copyright (C) 2023 Advanced Micro Devices, Inc\n",
    "SPDX-License-Identifier: MIT\n",
    "---"
   ]
  }
 ],
 "metadata": {
  "kernelspec": {
   "display_name": "Python 3 (ipykernel)",
   "language": "python",
   "name": "python3"
  },
  "language_info": {
   "codemirror_mode": {
    "name": "ipython",
    "version": 3
   },
   "file_extension": ".py",
   "mimetype": "text/x-python",
   "name": "python",
   "nbconvert_exporter": "python",
   "pygments_lexer": "ipython3",
   "version": "3.10.4"
  }
 },
 "nbformat": 4,
 "nbformat_minor": 4
}
