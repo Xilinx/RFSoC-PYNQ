{
 "cells": [
  {
   "cell_type": "markdown",
   "metadata": {},
   "source": [
    "# RFSoC2x2 Board Self Test\n",
    "----"
   ]
  },
  {
   "cell_type": "markdown",
   "metadata": {},
   "source": [
    "![](./data/rfsoc_selftest.png)\n",
    "\n",
    "## Aims\n",
    "\n",
    "* Enumerate notebooks and tests to verify the RFSoC2x2 board works as expected.\n",
    "* Give RFSoC2x2 users a set of tests to report any issues to the PYNQ team."
   ]
  },
  {
   "cell_type": "markdown",
   "metadata": {},
   "source": [
    "## Table of Contents\n",
    "\n",
    "* [RFDC Tests](#1.-RFDC-Tests)\n",
    "* [Display Port Tests](#2.-Display-Port-Tests)\n",
    "* [USB Tests](#3.-USB-Tests)\n",
    "* [Ethernet Tests](#4.-Ethernet-Tests)\n",
    "* [PMOD Tests](#5.-PMOD-Tests)\n",
    "* [SYZYGY Tests](#6.-SYZYGY-Tests)\n",
    "* [Buttons/LEDs/Switches Tests](#7.-Buttons/LEDs/Switches-Tests)\n",
    "\n",
    "----"
   ]
  },
  {
   "cell_type": "markdown",
   "metadata": {},
   "source": [
    "## 1. RFDC Tests\n",
    "\n",
    "Please run the spectrum sweep notebook included to verify\n",
    "RFDC functionality on your RFSoC2x2 board.  \n",
    "\n",
    "This test requires two SMA cables connected as shown in\n",
    "that notebook.\n",
    "\n",
    "[Spectrum Sweep Notebook](../base/rfdc/03_rf_spectrum_sweep.ipynb)\n",
    "\n",
    "---"
   ]
  },
  {
   "cell_type": "markdown",
   "metadata": {},
   "source": [
    "## 2. Display Port Tests\n",
    "\n",
    "Please Run the Display Port (DP) notebook included to verify \n",
    "functionality on your RFSoC2x2 board.\n",
    "\n",
    "[Display Port Notebook](../common/display_port_introduction.ipynb)\n",
    "\n",
    "----"
   ]
  },
  {
   "cell_type": "markdown",
   "metadata": {},
   "source": [
    "## 3. USB Tests\n",
    "\n",
    "Please run the WebCam or WiFi notebooks included to verify\n",
    "USB functionality on your RFSoC2x2 board.\n",
    "\n",
    "[USB Webcam Notebook](../common/usb_webcam.ipynb)\n",
    "\n",
    "[USB WiFi Notebook](../common/wifi.ipynb)\n",
    "\n",
    "If you have a flash drive, you can insert that drive into a \n",
    "USB port and run the following bash calls to see that the \n",
    "device has correctly shown up in Linux."
   ]
  },
  {
   "cell_type": "code",
   "execution_count": 1,
   "metadata": {},
   "outputs": [
    {
     "name": "stdout",
     "output_type": "stream",
     "text": [
      "sda           8:0    1 14.9G  0 disk \n",
      "└─sda1        8:1    1 14.9G  0 part \n"
     ]
    }
   ],
   "source": [
    "!lsblk | grep sd"
   ]
  },
  {
   "cell_type": "markdown",
   "metadata": {},
   "source": [
    "Suppose your part is shown as `sda1`, then you can run\n",
    "the following bash command; you can adjust the `DEV` to\n",
    "match what device entry shown above.\n",
    "```bash\n",
    "export DEV=sda1\n",
    "mkdir usbflash\n",
    "mount /dev/$DEV usbflash\n",
    "```\n",
    "\n",
    "To see usbflash files:\n",
    "```bash\n",
    "ls usbflash\n",
    "```\n",
    "\n",
    "Finally, clean up everything.\n",
    "```bash\n",
    "umount usbflash && rm -rf usbflash\n",
    "```\n",
    "\n",
    "----"
   ]
  },
  {
   "cell_type": "markdown",
   "metadata": {},
   "source": [
    "## 4. Ethernet Tests\n",
    "\n",
    "Please run the following bash calls to verify your Ethernet\n",
    "port is working or to report to the PYNQ team current status.\n",
    "\n",
    "For the `ping` system call, you can change 'www.xilinx.com' to\n",
    "other websites that allow pinging.\n",
    "\n",
    "<div class=\"alert alert-box alert-info\">\n",
    "The Ethernet port will not get an IP address if not connected to\n",
    "a DHCP enabled router.\n",
    "</div>"
   ]
  },
  {
   "cell_type": "code",
   "execution_count": 2,
   "metadata": {},
   "outputs": [
    {
     "name": "stdout",
     "output_type": "stream",
     "text": [
      "eth0: flags=4163<UP,BROADCAST,RUNNING,MULTICAST>  mtu 1500\n",
      "        inet 192.168.0.192  netmask 255.255.255.0  broadcast 192.168.0.255\n",
      "        inet6 fe80::fec2:3dff:fe2e:b4e0  prefixlen 64  scopeid 0x20<link>\n",
      "        ether fc:c2:3d:2e:b4:e0  txqueuelen 1000  (Ethernet)\n",
      "        RX packets 17449  bytes 14414560 (14.4 MB)\n",
      "        RX errors 962  dropped 0  overruns 962  frame 0\n",
      "        TX packets 34505  bytes 42533208 (42.5 MB)\n",
      "        TX errors 0  dropped 0 overruns 0  carrier 0  collisions 0\n",
      "        device interrupt 28  \n",
      "\n",
      "eth0:1: flags=4163<UP,BROADCAST,RUNNING,MULTICAST>  mtu 1500\n",
      "        inet 192.168.2.99  netmask 255.255.255.0  broadcast 192.168.2.255\n",
      "        ether fc:c2:3d:2e:b4:e0  txqueuelen 1000  (Ethernet)\n",
      "        device interrupt 28  \n",
      "\n",
      "PING e191.b.akamaiedge.net (23.201.24.194) 56(84) bytes of data.\n",
      "64 bytes from a23-201-24-194.deploy.static.akamaitechnologies.com (23.201.24.194): icmp_seq=1 ttl=59 time=5.73 ms\n",
      "64 bytes from a23-201-24-194.deploy.static.akamaitechnologies.com (23.201.24.194): icmp_seq=2 ttl=59 time=5.84 ms\n",
      "64 bytes from a23-201-24-194.deploy.static.akamaitechnologies.com (23.201.24.194): icmp_seq=3 ttl=59 time=4.39 ms\n",
      "\n",
      "--- e191.b.akamaiedge.net ping statistics ---\n",
      "3 packets transmitted, 3 received, 0% packet loss, time 2003ms\n",
      "rtt min/avg/max/mdev = 4.396/5.324/5.844/0.657 ms\n"
     ]
    }
   ],
   "source": [
    "! ifconfig eth0\n",
    "! ifconfig eth0:1\n",
    "! ping www.xilinx.com -c 3"
   ]
  },
  {
   "cell_type": "markdown",
   "metadata": {},
   "source": [
    "----"
   ]
  },
  {
   "cell_type": "markdown",
   "metadata": {},
   "source": [
    "## 5. PMOD Tests\n",
    "\n",
    "Please use a support PMOD device and run the appropriate\n",
    "notebook to test PMOD ports on your RFSoC2x2 board.\n",
    "\n",
    "[PMOD Temperature Sensor Notebook](../base/pmod/pmod_tmp2.ipynb)\n",
    "\n",
    "----"
   ]
  },
  {
   "cell_type": "markdown",
   "metadata": {},
   "source": [
    "## 6. SYZYGY Tests\n",
    "\n",
    "Please run the included SYZYGY notebook to verify your SYZYGY connection.\n",
    "Please turn off board, connect the SYZYGY device and run the following\n",
    "notebook.  \n",
    "\n",
    "<div class=\"alert alert-box alert-danger\">\n",
    "Per the SYZYGY standard, we do not support hot-plugging of SYZYGY devices on this board.\n",
    "</div>\n",
    "\n",
    "[SYZYGY Loopback Notebook](../base/board/syzygy_loopback.ipynb)\n",
    "\n",
    "----"
   ]
  },
  {
   "cell_type": "markdown",
   "metadata": {},
   "source": [
    "## 7. Buttons/LEDs/Switches Tests\n",
    "\n",
    "Please run the included board GPIO notebook to verify your GPIO connections.  \n",
    "\n",
    "[Buttons, LEDs, Switches Notebook](../base/board/buttons_leds_switches.ipynb)\n",
    "\n",
    "\n",
    "----"
   ]
  },
  {
   "cell_type": "markdown",
   "metadata": {},
   "source": [
    "## Summary\n",
    "\n",
    "The above notebooks and tests were selected to help users\n",
    "verify the board's I/O and connectors.\n",
    "\n",
    "For questions related to these notebooks or other functionality\n",
    "with PYNQ or this board - please visit the PYNQ forum at\n",
    "[discuss.pynq.io](https://discuss.pynq.io). \n",
    "\n",
    "----"
   ]
  },
  {
   "cell_type": "markdown",
   "metadata": {},
   "source": [
    "## Last revised\n",
    "\n",
    "* 25Jan21 - Initial Creation\n",
    "\n",
    "Copyright (C) 2021 Xilinx, Inc\n",
    "\n",
    "SPDX-License-Identifier: BSD-3-Clause"
   ]
  },
  {
   "cell_type": "markdown",
   "metadata": {},
   "source": [
    "----\n",
    "\n",
    "----"
   ]
  }
 ],
 "metadata": {
  "kernelspec": {
   "display_name": "Python 3",
   "language": "python",
   "name": "python3"
  },
  "language_info": {
   "codemirror_mode": {
    "name": "ipython",
    "version": 3
   },
   "file_extension": ".py",
   "mimetype": "text/x-python",
   "name": "python",
   "nbconvert_exporter": "python",
   "pygments_lexer": "ipython3",
   "version": "3.6.5"
  }
 },
 "nbformat": 4,
 "nbformat_minor": 4
}
