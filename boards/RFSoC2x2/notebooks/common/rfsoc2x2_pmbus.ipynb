{
 "cells": [
  {
   "cell_type": "markdown",
   "metadata": {},
   "source": [
    "# PMBus on the RFSoC2x2\n",
    "----"
   ]
  },
  {
   "cell_type": "markdown",
   "metadata": {},
   "source": [
    "## Aim/s\n",
    "* Explore the monitoring power rails using PMBus through PYNQ.\n",
    "\n",
    "## Reference\n",
    "* [PYNQ docs](https://pynq.readthedocs.io/en/latest/index.html)\n",
    "\n",
    "## Last revised\n",
    "* 27Jan21\n",
    "    * Initial revision\n",
    "----"
   ]
  },
  {
   "cell_type": "markdown",
   "metadata": {},
   "source": [
    "The board has some support for monitoring power rails on the board using PMBus.\n",
    "PYNQ exposes these rails through the `get_rails` function that returns a dictionary\n",
    "of all of the rails available to be monitored."
   ]
  },
  {
   "cell_type": "code",
   "execution_count": 1,
   "metadata": {},
   "outputs": [
    {
     "data": {
      "application/javascript": [
       "\n",
       "try {\n",
       "require(['notebook/js/codecell'], function(codecell) {\n",
       "  codecell.CodeCell.options_default.highlight_modes[\n",
       "      'magic_text/x-csrc'] = {'reg':[/^%%microblaze/]};\n",
       "  Jupyter.notebook.events.one('kernel_ready.Kernel', function(){\n",
       "      Jupyter.notebook.get_cells().map(function(cell){\n",
       "          if (cell.cell_type == 'code'){ cell.auto_highlight(); } }) ;\n",
       "  });\n",
       "});\n",
       "} catch (e) {};\n"
      ]
     },
     "metadata": {},
     "output_type": "display_data"
    },
    {
     "data": {
      "application/javascript": [
       "\n",
       "try {\n",
       "require(['notebook/js/codecell'], function(codecell) {\n",
       "  codecell.CodeCell.options_default.highlight_modes[\n",
       "      'magic_text/x-csrc'] = {'reg':[/^%%pybind11/]};\n",
       "  Jupyter.notebook.events.one('kernel_ready.Kernel', function(){\n",
       "      Jupyter.notebook.get_cells().map(function(cell){\n",
       "          if (cell.cell_type == 'code'){ cell.auto_highlight(); } }) ;\n",
       "  });\n",
       "});\n",
       "} catch (e) {};\n"
      ]
     },
     "metadata": {},
     "output_type": "display_data"
    },
    {
     "data": {
      "text/plain": [
       "{'0V85': Rail {name=0V85, voltage=Sensor {name=0V85_voltage, value=0.85V}, current=Sensor {name=0V85_current, value=3.332A}, power=Sensor {name=0V85_power, value=2.875W}},\n",
       " '1V1_DC': Rail {name=1V1_DC, voltage=Sensor {name=1V1_DC_voltage, value=1.096V}, current=Sensor {name=1V1_DC_current, value=1.23A}, power=Sensor {name=1V1_DC_power, value=1.312W}},\n",
       " '1V2_PL': Rail {name=1V2_PL, voltage=Sensor {name=1V2_PL_voltage, value=1.201V}, current=Sensor {name=1V2_PL_current, value=0.515A}, power=Sensor {name=1V2_PL_power, value=0.625W}},\n",
       " '1V2_PS': Rail {name=1V2_PS, voltage=Sensor {name=1V2_PS_voltage, value=1.198V}, current=Sensor {name=1V2_PS_current, value=0.327A}, power=Sensor {name=1V2_PS_power, value=0.437W}},\n",
       " '1V8': Rail {name=1V8, voltage=Sensor {name=1V8_voltage, value=1.831V}, current=Sensor {name=1V8_current, value=0.987A}, power=Sensor {name=1V8_power, value=1.812W}},\n",
       " '2V5_DC': Rail {name=2V5_DC, voltage=Sensor {name=2V5_DC_voltage, value=2.518V}, current=Sensor {name=2V5_DC_current, value=0.305A}, power=Sensor {name=2V5_DC_power, value=0.75W}},\n",
       " '3V3': Rail {name=3V3, voltage=Sensor {name=3V3_voltage, value=3.361V}, current=Sensor {name=3V3_current, value=0.32A}, power=Sensor {name=3V3_power, value=1.062W}},\n",
       " '3V5_DC': Rail {name=3V5_DC, voltage=Sensor {name=3V5_DC_voltage, value=3.557V}, current=Sensor {name=3V5_DC_current, value=0.407A}, power=Sensor {name=3V5_DC_power, value=1.437W}},\n",
       " '5V0_DC': Rail {name=5V0_DC, voltage=Sensor {name=5V0_DC_voltage, value=5.061V}, current=Sensor {name=5V0_DC_current, value=0.12A}, power=Sensor {name=5V0_DC_power, value=0.625W}},\n",
       " 'SYZYGY_VIO': Rail {name=SYZYGY_VIO, voltage=Sensor {name=SYZYGY_VIO_voltage, value=3.351V}, current=Sensor {name=SYZYGY_VIO_current, value=0.14A}, power=Sensor {name=SYZYGY_VIO_power, value=0.5W}}}"
      ]
     },
     "execution_count": 1,
     "metadata": {},
     "output_type": "execute_result"
    }
   ],
   "source": [
    "import pynq\n",
    "\n",
    "rails = pynq.get_rails()\n",
    "rails"
   ]
  },
  {
   "cell_type": "markdown",
   "metadata": {},
   "source": [
    "As can be seen, the keys of the dictionary are the names of the voltage rails\n",
    "while the values are `Rail` objects which contain three sensors for the voltage, \n",
    "current and power.\n",
    "\n",
    "To see how power changes under CPU load we can use the `DataRecorder` class.\n",
    "For this example we are going to look at the `0V85` rail listed above\n",
    "as we load one of the CPU cores in Python."
   ]
  },
  {
   "cell_type": "code",
   "execution_count": 2,
   "metadata": {},
   "outputs": [],
   "source": [
    "recorder = pynq.DataRecorder(rails[\"0V85\"].power)"
   ]
  },
  {
   "cell_type": "markdown",
   "metadata": {},
   "source": [
    "We can now use the recorder to monitor the applied sensor. \n",
    "For this example we'll sample the power every half second while sleeping\n",
    "and performing a dummy loop."
   ]
  },
  {
   "cell_type": "code",
   "execution_count": 3,
   "metadata": {},
   "outputs": [],
   "source": [
    "import time\n",
    "\n",
    "with recorder.record(0.5):\n",
    "    time.sleep(5)\n",
    "    for _ in range(10000000):\n",
    "        pass\n",
    "    time.sleep(5)"
   ]
  },
  {
   "cell_type": "markdown",
   "metadata": {},
   "source": [
    "The `DataRecorder` exposes the sensor data as a pandas dataframe."
   ]
  },
  {
   "cell_type": "code",
   "execution_count": 4,
   "metadata": {},
   "outputs": [
    {
     "data": {
      "text/html": [
       "<div>\n",
       "<style scoped>\n",
       "    .dataframe tbody tr th:only-of-type {\n",
       "        vertical-align: middle;\n",
       "    }\n",
       "\n",
       "    .dataframe tbody tr th {\n",
       "        vertical-align: top;\n",
       "    }\n",
       "\n",
       "    .dataframe thead th {\n",
       "        text-align: right;\n",
       "    }\n",
       "</style>\n",
       "<table border=\"1\" class=\"dataframe\">\n",
       "  <thead>\n",
       "    <tr style=\"text-align: right;\">\n",
       "      <th></th>\n",
       "      <th>Mark</th>\n",
       "      <th>0V85_power</th>\n",
       "    </tr>\n",
       "  </thead>\n",
       "  <tbody>\n",
       "    <tr>\n",
       "      <th>2020-09-29 00:20:44.439818</th>\n",
       "      <td>0.0</td>\n",
       "      <td>2.937</td>\n",
       "    </tr>\n",
       "    <tr>\n",
       "      <th>2020-09-29 00:20:44.962610</th>\n",
       "      <td>0.0</td>\n",
       "      <td>2.687</td>\n",
       "    </tr>\n",
       "    <tr>\n",
       "      <th>2020-09-29 00:20:45.473584</th>\n",
       "      <td>0.0</td>\n",
       "      <td>2.812</td>\n",
       "    </tr>\n",
       "    <tr>\n",
       "      <th>2020-09-29 00:20:45.984554</th>\n",
       "      <td>0.0</td>\n",
       "      <td>2.687</td>\n",
       "    </tr>\n",
       "    <tr>\n",
       "      <th>2020-09-29 00:20:46.495418</th>\n",
       "      <td>0.0</td>\n",
       "      <td>2.687</td>\n",
       "    </tr>\n",
       "    <tr>\n",
       "      <th>2020-09-29 00:20:47.006116</th>\n",
       "      <td>0.0</td>\n",
       "      <td>2.687</td>\n",
       "    </tr>\n",
       "    <tr>\n",
       "      <th>2020-09-29 00:20:47.516807</th>\n",
       "      <td>0.0</td>\n",
       "      <td>2.687</td>\n",
       "    </tr>\n",
       "    <tr>\n",
       "      <th>2020-09-29 00:20:48.027734</th>\n",
       "      <td>0.0</td>\n",
       "      <td>2.687</td>\n",
       "    </tr>\n",
       "    <tr>\n",
       "      <th>2020-09-29 00:20:48.538678</th>\n",
       "      <td>0.0</td>\n",
       "      <td>2.687</td>\n",
       "    </tr>\n",
       "    <tr>\n",
       "      <th>2020-09-29 00:20:49.049414</th>\n",
       "      <td>0.0</td>\n",
       "      <td>2.687</td>\n",
       "    </tr>\n",
       "    <tr>\n",
       "      <th>2020-09-29 00:20:49.569780</th>\n",
       "      <td>0.0</td>\n",
       "      <td>2.750</td>\n",
       "    </tr>\n",
       "    <tr>\n",
       "      <th>2020-09-29 00:20:50.095931</th>\n",
       "      <td>0.0</td>\n",
       "      <td>2.812</td>\n",
       "    </tr>\n",
       "    <tr>\n",
       "      <th>2020-09-29 00:20:50.622587</th>\n",
       "      <td>0.0</td>\n",
       "      <td>2.750</td>\n",
       "    </tr>\n",
       "    <tr>\n",
       "      <th>2020-09-29 00:20:51.149325</th>\n",
       "      <td>0.0</td>\n",
       "      <td>2.750</td>\n",
       "    </tr>\n",
       "    <tr>\n",
       "      <th>2020-09-29 00:20:51.675392</th>\n",
       "      <td>0.0</td>\n",
       "      <td>2.812</td>\n",
       "    </tr>\n",
       "    <tr>\n",
       "      <th>2020-09-29 00:20:52.206667</th>\n",
       "      <td>0.0</td>\n",
       "      <td>2.812</td>\n",
       "    </tr>\n",
       "    <tr>\n",
       "      <th>2020-09-29 00:20:52.737827</th>\n",
       "      <td>0.0</td>\n",
       "      <td>2.875</td>\n",
       "    </tr>\n",
       "    <tr>\n",
       "      <th>2020-09-29 00:20:53.253800</th>\n",
       "      <td>0.0</td>\n",
       "      <td>2.687</td>\n",
       "    </tr>\n",
       "    <tr>\n",
       "      <th>2020-09-29 00:20:53.765161</th>\n",
       "      <td>0.0</td>\n",
       "      <td>2.687</td>\n",
       "    </tr>\n",
       "    <tr>\n",
       "      <th>2020-09-29 00:20:54.276472</th>\n",
       "      <td>0.0</td>\n",
       "      <td>2.687</td>\n",
       "    </tr>\n",
       "    <tr>\n",
       "      <th>2020-09-29 00:20:54.787349</th>\n",
       "      <td>0.0</td>\n",
       "      <td>2.687</td>\n",
       "    </tr>\n",
       "    <tr>\n",
       "      <th>2020-09-29 00:20:55.298577</th>\n",
       "      <td>0.0</td>\n",
       "      <td>2.687</td>\n",
       "    </tr>\n",
       "    <tr>\n",
       "      <th>2020-09-29 00:20:55.809888</th>\n",
       "      <td>0.0</td>\n",
       "      <td>2.687</td>\n",
       "    </tr>\n",
       "    <tr>\n",
       "      <th>2020-09-29 00:20:56.320696</th>\n",
       "      <td>0.0</td>\n",
       "      <td>2.687</td>\n",
       "    </tr>\n",
       "    <tr>\n",
       "      <th>2020-09-29 00:20:56.831385</th>\n",
       "      <td>0.0</td>\n",
       "      <td>2.687</td>\n",
       "    </tr>\n",
       "    <tr>\n",
       "      <th>2020-09-29 00:20:57.342277</th>\n",
       "      <td>0.0</td>\n",
       "      <td>2.687</td>\n",
       "    </tr>\n",
       "    <tr>\n",
       "      <th>2020-09-29 00:20:57.853081</th>\n",
       "      <td>0.0</td>\n",
       "      <td>2.687</td>\n",
       "    </tr>\n",
       "  </tbody>\n",
       "</table>\n",
       "</div>"
      ],
      "text/plain": [
       "                            Mark  0V85_power\n",
       "2020-09-29 00:20:44.439818   0.0       2.937\n",
       "2020-09-29 00:20:44.962610   0.0       2.687\n",
       "2020-09-29 00:20:45.473584   0.0       2.812\n",
       "2020-09-29 00:20:45.984554   0.0       2.687\n",
       "2020-09-29 00:20:46.495418   0.0       2.687\n",
       "2020-09-29 00:20:47.006116   0.0       2.687\n",
       "2020-09-29 00:20:47.516807   0.0       2.687\n",
       "2020-09-29 00:20:48.027734   0.0       2.687\n",
       "2020-09-29 00:20:48.538678   0.0       2.687\n",
       "2020-09-29 00:20:49.049414   0.0       2.687\n",
       "2020-09-29 00:20:49.569780   0.0       2.750\n",
       "2020-09-29 00:20:50.095931   0.0       2.812\n",
       "2020-09-29 00:20:50.622587   0.0       2.750\n",
       "2020-09-29 00:20:51.149325   0.0       2.750\n",
       "2020-09-29 00:20:51.675392   0.0       2.812\n",
       "2020-09-29 00:20:52.206667   0.0       2.812\n",
       "2020-09-29 00:20:52.737827   0.0       2.875\n",
       "2020-09-29 00:20:53.253800   0.0       2.687\n",
       "2020-09-29 00:20:53.765161   0.0       2.687\n",
       "2020-09-29 00:20:54.276472   0.0       2.687\n",
       "2020-09-29 00:20:54.787349   0.0       2.687\n",
       "2020-09-29 00:20:55.298577   0.0       2.687\n",
       "2020-09-29 00:20:55.809888   0.0       2.687\n",
       "2020-09-29 00:20:56.320696   0.0       2.687\n",
       "2020-09-29 00:20:56.831385   0.0       2.687\n",
       "2020-09-29 00:20:57.342277   0.0       2.687\n",
       "2020-09-29 00:20:57.853081   0.0       2.687"
      ]
     },
     "execution_count": 4,
     "metadata": {},
     "output_type": "execute_result"
    }
   ],
   "source": [
    "recorder.frame"
   ]
  },
  {
   "cell_type": "markdown",
   "metadata": {},
   "source": [
    "or by plotting the results using matplotlib"
   ]
  },
  {
   "cell_type": "code",
   "execution_count": 5,
   "metadata": {},
   "outputs": [
    {
     "data": {
      "text/plain": [
       "<matplotlib.axes._subplots.AxesSubplot at 0x7f940cbfd0>"
      ]
     },
     "execution_count": 5,
     "metadata": {},
     "output_type": "execute_result"
    },
    {
     "data": {
      "image/png": "[encoded data removed]",
      "text/plain": [
       "<matplotlib.figure.Figure at 0x7f94226e48>"
      ]
     },
     "metadata": {},
     "output_type": "display_data"
    }
   ],
   "source": [
    "%matplotlib inline\n",
    "recorder.frame[\"0V85_power\"].plot()"
   ]
  },
  {
   "cell_type": "markdown",
   "metadata": {},
   "source": [
    "We can get more information by using the `mark` function which will increment\n",
    "the invocation number without having to stop and start the recorder."
   ]
  },
  {
   "cell_type": "code",
   "execution_count": 6,
   "metadata": {
    "scrolled": true
   },
   "outputs": [
    {
     "data": {
      "text/plain": [
       "array([<matplotlib.axes._subplots.AxesSubplot object at 0x7f95451b38>,\n",
       "       <matplotlib.axes._subplots.AxesSubplot object at 0x7f8bf4b780>],\n",
       "      dtype=object)"
      ]
     },
     "execution_count": 6,
     "metadata": {},
     "output_type": "execute_result"
    },
    {
     "data": {
      "image/png": "[encoded data removed]",
      "text/plain": [
       "<matplotlib.figure.Figure at 0x7fad5b6278>"
      ]
     },
     "metadata": {},
     "output_type": "display_data"
    }
   ],
   "source": [
    "recorder.reset()\n",
    "with recorder.record(0.5):\n",
    "    time.sleep(5)\n",
    "    recorder.mark()\n",
    "    for _ in range(10000000):\n",
    "        pass\n",
    "    recorder.mark()\n",
    "    time.sleep(5)\n",
    "\n",
    "recorder.frame.plot(subplots=True)"
   ]
  },
  {
   "cell_type": "markdown",
   "metadata": {},
   "source": [
    "This clearly shows the power spike when the for loop starts running."
   ]
  },
  {
   "cell_type": "markdown",
   "metadata": {},
   "source": [
    "Copyright (C) 2021 Xilinx, Inc\n",
    "\n",
    "SPDX-License-Identifier: BSD-3-Clause"
   ]
  },
  {
   "cell_type": "markdown",
   "metadata": {},
   "source": [
    "----\n",
    "\n",
    "----"
   ]
  }
 ],
 "metadata": {
  "kernelspec": {
   "display_name": "Python 3",
   "language": "python",
   "name": "python3"
  },
  "language_info": {
   "codemirror_mode": {
    "name": "ipython",
    "version": 3
   },
   "file_extension": ".py",
   "mimetype": "text/x-python",
   "name": "python",
   "nbconvert_exporter": "python",
   "pygments_lexer": "ipython3",
   "version": "3.8.5"
  }
 },
 "nbformat": 4,
 "nbformat_minor": 2
}
