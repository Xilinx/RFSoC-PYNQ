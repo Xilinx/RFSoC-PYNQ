{
 "cells": [
  {
   "cell_type": "markdown",
   "metadata": {},
   "source": [
    "# Welcome to RFSOC-PYNQ\n",
    "## Getting Started\n",
    "\n",
    "Before starting to use the PYNQ with the RFSOC, please review the basics:\n",
    "\n",
    "* **getting_started**: Please refer to the overall PYNQ introduction.  That resource describes using Jupyter notebooks with PYNQ, the Python environment, and how to use some basic features of the current platform. \n",
    "\n",
    "* **common**: contains example notebooks on how to download an overlay, how to set the Zynq clocks, how to execute Linux shell commands, and how to use USB devices.\n",
    "\n",
    "* **selftest**: Notebooks to enable testing of the board.\n",
    "\n",
    "* **base/notebooks**: Notebooks specific to the base overlay such as the RFSOC DAC and ADC tiles are located there.\n",
    "\n",
    "## Documentation\n",
    "Please see the latest <a href=\"http://pynq.readthedocs.io\">PYNQ Documentation on readthedocs</a>.  \n",
    "\n",
    "## Support\n",
    "\n",
    "For questions or support, go to the forum on the <a href=\"http://www.pynq.io\">PYNQ project webpage </a>.\n",
    "\n",
    "## Project webpage\n",
    "\n",
    "You can find details on the <a href=\"http://www.pynq.io\">PYNQ project webpage </a>.\n",
    "\n",
    "\n",
    "## GitHub\n",
    "The PYNQ Repository is hosted on github: <a href=\"https://github.com/Xilinx/PYNQ\">PYNQ GitHub Repository</a>."
   ]
  }
 ],
 "metadata": {
  "kernelspec": {
   "display_name": "Python 3.10.5 64-bit",
   "language": "python",
   "name": "python3"
  },
  "language_info": {
   "codemirror_mode": {
    "name": "ipython",
    "version": 3
   },
   "file_extension": ".py",
   "mimetype": "text/x-python",
   "name": "python",
   "nbconvert_exporter": "python",
   "pygments_lexer": "ipython3",
   "version": "3.10.5"
  },
  "vscode": {
   "interpreter": {
    "hash": "4d2633862f41f27d9b46e81f1ba1c78420cd082f001c942a35ba297c53b87da8"
   }
  }
 },
 "nbformat": 4,
 "nbformat_minor": 4
}
