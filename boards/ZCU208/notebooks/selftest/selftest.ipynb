{
 "cells": [
  {
   "cell_type": "markdown",
   "metadata": {},
   "source": [
    "# ZCU208 Board Self Tests\n",
    "----"
   ]
  },
  {
   "cell_type": "markdown",
   "metadata": {},
   "source": [
    "## Aims\n",
    "* Enumerate notebooks and tests to verify the ZCU208 board works as expected.\n",
    "* Give ZCU208 users a set of tests to report any issues to the PYNQ team.\n",
    "* Also visit the common page for additional self-tests."
   ]
  },
  {
   "cell_type": "markdown",
   "metadata": {},
   "source": [
    "----"
   ]
  },
  {
   "cell_type": "markdown",
   "metadata": {},
   "source": [
    "## SFP Offload Loopback Test\n",
    "\n",
    "Please run the included notebook to verify your SFP.  \n",
    "\n",
    "[SFP Notebook](./loopbackSFP.ipynb)\n",
    "\n",
    "----"
   ]
  },
  {
   "cell_type": "markdown",
   "metadata": {},
   "source": [
    "## Buttons/LEDs/Switches Tests\n",
    "\n",
    "Please run the included board GPIO notebook to verify your GPIO connections.  \n",
    "\n",
    "[Buttons, LEDs, Switches Notebook](./buttons_leds_switches.ipynb)\n",
    "\n",
    "----"
   ]
  },
  {
   "cell_type": "markdown",
   "metadata": {},
   "source": [
    "## PL DDR Memory Test\n",
    "\n",
    "Please run the included PL DDR4 notebook to verify MMIO access to PL DRAM.\n",
    "\n",
    "[PL DDR4 Notebook](./pl_ddr.ipynb)\n",
    "\n",
    "----"
   ]
  },
  {
   "cell_type": "markdown",
   "metadata": {},
   "source": [
    "## Summary\n",
    "\n",
    "The above notebooks and tests were selected to help users\n",
    "verify the board's I/O and connectors.\n",
    "\n",
    "For questions related to these notebooks or other functionality\n",
    "with PYNQ or this board - please visit the PYNQ forum at\n",
    "[discuss.pynq.io](https://discuss.pynq.io). \n",
    "\n",
    "----"
   ]
  },
  {
   "cell_type": "markdown",
   "metadata": {},
   "source": [
    "## Last revised\n",
    "\n",
    "* 26 Sept 2022 - Initial Revision\n",
    "\n",
    "---\n",
    "\n",
    "Copyright (C) 2022 Xilinx, Inc\n",
    "\n",
    "SPDX-License-Identifier: BSD-3-Clause"
   ]
  },
  {
   "cell_type": "markdown",
   "metadata": {},
   "source": [
    "----\n",
    "\n",
    "----"
   ]
  }
 ],
 "metadata": {
  "kernelspec": {
   "display_name": "Python 3.10.5 64-bit",
   "language": "python",
   "name": "python3"
  },
  "language_info": {
   "codemirror_mode": {
    "name": "ipython",
    "version": 3
   },
   "file_extension": ".py",
   "mimetype": "text/x-python",
   "name": "python",
   "nbconvert_exporter": "python",
   "pygments_lexer": "ipython3",
   "version": "3.10.5"
  },
  "vscode": {
   "interpreter": {
    "hash": "4d2633862f41f27d9b46e81f1ba1c78420cd082f001c942a35ba297c53b87da8"
   }
  }
 },
 "nbformat": 4,
 "nbformat_minor": 4
}
