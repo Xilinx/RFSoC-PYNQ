{
 "cells": [
  {
   "cell_type": "markdown",
   "metadata": {},
   "source": [
    "# Buttons, Switches, and LEDs\n",
    "----"
   ]
  },
  {
   "cell_type": "markdown",
   "metadata": {},
   "source": [
    "## Aim/s\n",
    "\n",
    "* Test the board components.\n",
    "\n",
    "## Last revised\n",
    "* 27Jan21 - Initial revision\n",
    "----"
   ]
  },
  {
   "cell_type": "markdown",
   "metadata": {},
   "source": [
    "### Base overlay\n",
    "Load the overlay first"
   ]
  },
  {
   "cell_type": "code",
   "execution_count": 18,
   "metadata": {},
   "outputs": [],
   "source": [
    "from pynq.overlays.base import BaseOverlay\n",
    "base = BaseOverlay('base.bit')"
   ]
  },
  {
   "cell_type": "markdown",
   "metadata": {},
   "source": [
    "### Buttons and LEDs"
   ]
  },
  {
   "cell_type": "markdown",
   "metadata": {},
   "source": [
    "Now the following demo shows how to use push buttons and LEDs on the board.\n",
    "\n",
    "![LEDsDIPswitches](data/ZCU208_PushButtonsLEDsSwitches.JPG)\n",
    "\n",
    "You can do the following to control the LEDs:\n",
    "\n",
    "    Button S pressed:        LEDs shift from up to down.\n",
    "    Button W pressed:        LEDs shift from down to up.\n",
    "    Button E pressed:        Turns off all the LEDS and ends this demo.\n",
    "\n",
    "<div class=\"alert alert-box alert-info\">\n",
    "Please note that when a push button is pressed, the corresponding value read from <strong>AXI GPIO</strong> is <strong>1</strong>.\n",
    "</div>"
   ]
  },
  {
   "cell_type": "code",
   "execution_count": 19,
   "metadata": {},
   "outputs": [
    {
     "name": "stdout",
     "output_type": "stream",
     "text": [
      "End of this demo ...\n"
     ]
    }
   ],
   "source": [
    "from time import sleep\n",
    "\n",
    "Delay1 = 0.3\n",
    "Delay2 = 0.1\n",
    "\n",
    "for led in base.leds:\n",
    "    led.on()\n",
    "while (base.buttons[3].read()==0):\n",
    "    if (base.buttons[1].read()):\n",
    "        for led in base.leds:\n",
    "            led.off()\n",
    "            sleep(Delay2)\n",
    "        for led in base.leds:\n",
    "            led.toggle()\n",
    "            sleep(Delay2)\n",
    "\n",
    "    elif (base.buttons[2].read()):\n",
    "        for led in reversed(base.leds):\n",
    "            led.off()\n",
    "        sleep(Delay2)\n",
    "        for led in reversed(base.leds):\n",
    "            led.toggle()\n",
    "            sleep(Delay2)                  \n",
    "\n",
    "print('End of this demo ...')\n",
    "for led in base.leds:\n",
    "    led.off()"
   ]
  },
  {
   "cell_type": "markdown",
   "metadata": {},
   "source": [
    "### Switches"
   ]
  },
  {
   "cell_type": "markdown",
   "metadata": {},
   "source": [
    "We can also read switch values. On the board,\n",
    "if a switch is up, the reading value will be 1;\n",
    "otherwise the reading value for that switch will be 0.\n",
    "The next cell will read out 4 switch values."
   ]
  },
  {
   "cell_type": "code",
   "execution_count": 17,
   "metadata": {},
   "outputs": [
    {
     "name": "stdout",
     "output_type": "stream",
     "text": [
      "Switch 7 reading value: 0\n",
      "Switch 6 reading value: 0\n",
      "Switch 5 reading value: 0\n",
      "Switch 4 reading value: 0\n",
      "Switch 3 reading value: 0\n",
      "Switch 2 reading value: 0\n",
      "Switch 1 reading value: 0\n",
      "Switch 0 reading value: 0\n"
     ]
    }
   ],
   "source": [
    "for i in range(8):\n",
    "    print(\"Switch {0} reading value: {1}\".format(\n",
    "        7-i, base.switches[i].read()))"
   ]
  },
  {
   "cell_type": "markdown",
   "metadata": {},
   "source": [
    "<div class=\"alert alert-box alert-info\">\n",
    "You may see a slight different set of values due to a different configuration.\n",
    "</div>"
   ]
  },
  {
   "cell_type": "markdown",
   "metadata": {},
   "source": [
    "---\n",
    "Copyright (C) 2022 Xilinx, Inc\n",
    "\n",
    "SPDX-License-Identifier: BSD-3-Clause"
   ]
  },
  {
   "cell_type": "markdown",
   "metadata": {},
   "source": [
    "----\n",
    "\n",
    "----"
   ]
  }
 ],
 "metadata": {
  "kernelspec": {
   "display_name": "Python 3 (ipykernel)",
   "language": "python",
   "name": "python3"
  },
  "language_info": {
   "codemirror_mode": {
    "name": "ipython",
    "version": 3
   },
   "file_extension": ".py",
   "mimetype": "text/x-python",
   "name": "python",
   "nbconvert_exporter": "python",
   "pygments_lexer": "ipython3",
   "version": "3.10.4"
  }
 },
 "nbformat": 4,
 "nbformat_minor": 4
}
