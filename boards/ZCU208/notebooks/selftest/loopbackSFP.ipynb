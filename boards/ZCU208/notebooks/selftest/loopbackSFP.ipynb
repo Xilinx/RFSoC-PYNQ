{
 "cells": [
  {
   "cell_type": "markdown",
   "id": "59ac84c0-9ad5-41d2-ae99-7c8f9c4bc93d",
   "metadata": {
    "tags": []
   },
   "source": [
    "# ZCU208 SFP Self-Test\n",
    "----\n",
    "\n",
    "<div class=\"alert alert-box alert-info\">\n",
    "Please use Jupyter labs http://board_ip_address/lab for this notebook.\n",
    "</div>\n",
    "\n",
    "This notebook performs a self-test of the ZCU208 2x2 SFP configuration in loopback mode.\n",
    "Only the upper-right SFP is active in this overlay.\n",
    "\n",
    "![SFP_2x2_cage](data/ZCU208_SFP_2x2_Cage_with_LoopbackAtUpperRight.jpg)\n",
    "\n",
    "## Aims\n",
    "* Describe the `xxv_ethernet` Python package that is required to control and\n",
    "  configure the socket from Jupyter\n",
    "* The xxv_ethernet configures one of the four 25G SFPs as 25G interface.\n",
    "* Demonstrate loopback performance.\n",
    "\n",
    "## Prerequisites\n",
    "* Jumpers must be removed at J32, J35, J39, J44.  Placing them would disable the SFP socket.\n",
    "* External loopback requires an SFP loopback module. This design was verified with the <A HREF='https://www.fs.com/products/109371.html'>FS SFP28-LB</A>.\n",
    "\n",
    "## References\n",
    "* [Xilinx, Inc, \"ZCU208 Evaluation Board User Guide\", UG1410, v1.0, July 2020](https://www.xilinx.com/support/documentation/boards_and_kits/zcu208/ug1410-zcu208-eval-bd.pdf)\n",
    "* [Xilinx, Inc, \"10G/25G High Speed Ethernet Subsystem v4.1\", PG210, v4.1, May 2022](https://docs.xilinx.com/r/en-US/pg210-25g-ethernet)\n",
    "\n",
    "## Revision History\n",
    "* v1.0 | 27/09/2022 | Revised for the ZCU208.\n"
   ]
  },
  {
   "cell_type": "code",
   "execution_count": 1,
   "id": "b2777cb7-70e9-4585-98bd-f03302ef7707",
   "metadata": {},
   "outputs": [
    {
     "data": {
      "application/javascript": "\ntry {\nrequire(['notebook/js/codecell'], function(codecell) {\n  codecell.CodeCell.options_default.highlight_modes[\n      'magic_text/x-csrc'] = {'reg':[/^%%microblaze/]};\n  Jupyter.notebook.events.one('kernel_ready.Kernel', function(){\n      Jupyter.notebook.get_cells().map(function(cell){\n          if (cell.cell_type == 'code'){ cell.auto_highlight(); } }) ;\n  });\n});\n} catch (e) {};\n"
     },
     "metadata": {},
     "output_type": "display_data"
    },
    {
     "data": {
      "application/javascript": "\ntry {\nrequire(['notebook/js/codecell'], function(codecell) {\n  codecell.CodeCell.options_default.highlight_modes[\n      'magic_text/x-csrc'] = {'reg':[/^%%pybind11/]};\n  Jupyter.notebook.events.one('kernel_ready.Kernel', function(){\n      Jupyter.notebook.get_cells().map(function(cell){\n          if (cell.cell_type == 'code'){ cell.auto_highlight(); } }) ;\n  });\n});\n} catch (e) {};\n"
     },
     "metadata": {},
     "output_type": "display_data"
    }
   ],
   "source": [
    "import pynq\n",
    "import numpy as np\n",
    "\n",
    "from pynq.overlays.base import BaseOverlay\n",
    "base = BaseOverlay('base.bit')\n",
    "dma = base.OffloadEngine.axi_dma_0\n",
    "xxv = base.OffloadEngine.xxv_ethernet_0"
   ]
  },
  {
   "cell_type": "code",
   "execution_count": null,
   "id": "3dba9616-0d5d-4cd9-9cc2-f4b7f4e3316d",
   "metadata": {},
   "outputs": [],
   "source": [
    "# Internal Loopback = 1\n",
    "# External Loopback (requires SFP present at SFP00 upper-right) = 0\n",
    "xxv.register_map.MODE_REG.ctl_local_loopback = 1 # change to 0 for external"
   ]
  },
  {
   "cell_type": "code",
   "execution_count": 3,
   "id": "4cc5a387-2ad8-4ff1-828a-c19cb05343a3",
   "metadata": {},
   "outputs": [],
   "source": [
    "# Reset recommended after changing to/from Loopback mode\n",
    "# Verify SFP module properly inserted before attempting external loopback\n",
    "xxv.register_map.GT_RESET_REG = 0x01\n",
    "xxv.register_map.RESET_REG = 0x03\n",
    "xxv.register_map.GT_RESET_REG = 0x00\n",
    "xxv.register_map.RESET_REG = 0x00"
   ]
  },
  {
   "cell_type": "code",
   "execution_count": 4,
   "id": "2a510122-02e4-47b3-b286-79b896e775b3",
   "metadata": {},
   "outputs": [],
   "source": [
    "# Some ASCII artwork\n",
    "raw_str = ' /$$$$$$$  /$$     /$$ /$$   /$$  /$$$$$$ \\n| $$__  $$|  $$   /$$/| $$$ | $$ /$$__  $$\\n| $$  \\\\ $$ \\\\  $$ /$$/ | $$$$| $$| $$  \\\\ $$\\n| $$$$$$$/  \\\\  $$$$/  | $$ $$ $$| $$  | $$\\n| $$____/    \\\\  $$/   | $$  $$$$| $$  | $$\\n| $$          | $$    | $$\\\\  $$$| $$/$$ $$\\n| $$          | $$    | $$ \\\\  $$|  $$$$$$/\\n|__/          |__/    |__/  \\\\__/ \\\\____ $$$\\n                                      \\\\__/\\n\\n                                          \\n                                         '\n",
    "packets_in = np.array(list(raw_str.encode()))\n",
    "# Allocate input and output buffers for transfer\n",
    "dma_buf_in = pynq.allocate(packets_in.shape[0])\n",
    "dma_buf_out = pynq.allocate(packets_in.shape[0])\n",
    "# Load data into input buffer\n",
    "dma_buf_in[:]=packets_in"
   ]
  },
  {
   "cell_type": "code",
   "execution_count": 5,
   "id": "9f0e0f81-efef-4ac1-893a-d397dbbe982b",
   "metadata": {},
   "outputs": [],
   "source": [
    "# Now initiate the transmission of a packet by sending to DMA engine\n",
    "# The receive packet is captured and stored back by the DMA engine.\n",
    "dma.sendchannel.transfer(dma_buf_in)\n",
    "dma.recvchannel.transfer(dma_buf_out)\n",
    "dma.sendchannel.wait()\n",
    "dma.recvchannel.wait()"
   ]
  },
  {
   "cell_type": "code",
   "execution_count": 6,
   "id": "3dae89d3-bac3-406e-ac09-56f0f2efa213",
   "metadata": {},
   "outputs": [
    {
     "name": "stdout",
     "output_type": "stream",
     "text": [
      " \u0000\u0000\u0000/\u0000\u0000\u0000$\u0000\u0000\u0000$\u0000\u0000\u0000$\u0000\u0000\u0000$\u0000\u0000\u0000$\u0000\u0000\u0000$\u0000\u0000\u0000$\u0000\u0000\u0000 \u0000\u0000\u0000 \u0000\u0000\u0000/\u0000\u0000\u0000$\u0000\u0000\u0000$\u0000\u0000\u0000 \u0000\u0000\u0000 \u0000\u0000\u0000 \u0000\u0000\u0000 \u0000\u0000\u0000 \u0000\u0000\u0000/\u0000\u0000\u0000$\u0000\u0000\u0000$\u0000\u0000\u0000 \u0000\u0000\u0000/\u0000\u0000\u0000$\u0000\u0000\u0000$\u0000\u0000\u0000 \u0000\u0000\u0000 \u0000\u0000\u0000 \u0000\u0000\u0000/\u0000\u0000\u0000$\u0000\u0000\u0000$\u0000\u0000\u0000 \u0000\u0000\u0000 \u0000\u0000\u0000/\u0000\u0000\u0000$\u0000\u0000\u0000$\u0000\u0000\u0000$\u0000\u0000\u0000$\u0000\u0000\u0000$\u0000\u0000\u0000$\u0000\u0000\u0000 \u0000\u0000\u0000\n",
      "\u0000\u0000\u0000|\u0000\u0000\u0000 \u0000\u0000\u0000$\u0000\u0000\u0000$\u0000\u0000\u0000_\u0000\u0000\u0000_\u0000\u0000\u0000 \u0000\u0000\u0000 \u0000\u0000\u0000$\u0000\u0000\u0000$\u0000\u0000\u0000|\u0000\u0000\u0000 \u0000\u0000\u0000 \u0000\u0000\u0000$\u0000\u0000\u0000$\u0000\u0000\u0000 \u0000\u0000\u0000 \u0000\u0000\u0000 \u0000\u0000\u0000/\u0000\u0000\u0000$\u0000\u0000\u0000$\u0000\u0000\u0000/\u0000\u0000\u0000|\u0000\u0000\u0000 \u0000\u0000\u0000$\u0000\u0000\u0000$\u0000\u0000\u0000$\u0000\u0000\u0000 \u0000\u0000\u0000|\u0000\u0000\u0000 \u0000\u0000\u0000$\u0000\u0000\u0000$\u0000\u0000\u0000 \u0000\u0000\u0000/\u0000\u0000\u0000$\u0000\u0000\u0000$\u0000\u0000\u0000_\u0000\u0000\u0000_\u0000\u0000\u0000 \u0000\u0000\u0000 \u0000\u0000\u0000$\u0000\u0000\u0000$\u0000\u0000\u0000\n",
      "\u0000\u0000\u0000|\u0000\u0000\u0000 \u0000\u0000\u0000$\u0000\u0000\u0000$\u0000\u0000\u0000 \u0000\u0000\u0000 \u0000\u0000\u0000\\\u0000\u0000\u0000 \u0000\u0000\u0000$\u0000\u0000\u0000$\u0000\u0000\u0000 \u0000\u0000\u0000\\\u0000\u0000\u0000 \u0000\u0000\u0000 \u0000\u0000\u0000$\u0000\u0000\u0000$\u0000\u0000\u0000 \u0000\u0000\u0000/\u0000\u0000\u0000$\u0000\u0000\u0000$\u0000\u0000\u0000/\u0000\u0000\u0000 \u0000\u0000\u0000|\u0000\u0000\u0000 \u0000\u0000\u0000$\u0000\u0000\u0000$\u0000\u0000\u0000$\u0000\u0000\u0000$\u0000\u0000\u0000|\u0000\u0000\u0000 \u0000\u0000\u0000$\u0000\u0000\u0000$\u0000\u0000\u0000|\u0000\u0000\u0000 \u0000\u0000\u0000$\u0000\u0000\u0000$\u0000\u0000\u0000 \u0000\u0000\u0000 \u0000\u0000\u0000\\\u0000\u0000\u0000 \u0000\u0000\u0000$\u0000\u0000\u0000$\u0000\u0000\u0000\n",
      "\u0000\u0000\u0000|\u0000\u0000\u0000 \u0000\u0000\u0000$\u0000\u0000\u0000$\u0000\u0000\u0000$\u0000\u0000\u0000$\u0000\u0000\u0000$\u0000\u0000\u0000$\u0000\u0000\u0000$\u0000\u0000\u0000/\u0000\u0000\u0000 \u0000\u0000\u0000 \u0000\u0000\u0000\\\u0000\u0000\u0000 \u0000\u0000\u0000 \u0000\u0000\u0000$\u0000\u0000\u0000$\u0000\u0000\u0000$\u0000\u0000\u0000$\u0000\u0000\u0000/\u0000\u0000\u0000 \u0000\u0000\u0000 \u0000\u0000\u0000|\u0000\u0000\u0000 \u0000\u0000\u0000$\u0000\u0000\u0000$\u0000\u0000\u0000 \u0000\u0000\u0000$\u0000\u0000\u0000$\u0000\u0000\u0000 \u0000\u0000\u0000$\u0000\u0000\u0000$\u0000\u0000\u0000|\u0000\u0000\u0000 \u0000\u0000\u0000$\u0000\u0000\u0000$\u0000\u0000\u0000 \u0000\u0000\u0000 \u0000\u0000\u0000|\u0000\u0000\u0000 \u0000\u0000\u0000$\u0000\u0000\u0000$\u0000\u0000\u0000\n",
      "\u0000\u0000\u0000|\u0000\u0000\u0000 \u0000\u0000\u0000$\u0000\u0000\u0000$\u0000\u0000\u0000_\u0000\u0000\u0000_\u0000\u0000\u0000_\u0000\u0000\u0000_\u0000\u0000\u0000/\u0000\u0000\u0000 \u0000\u0000\u0000 \u0000\u0000\u0000 \u0000\u0000\u0000 \u0000\u0000\u0000\\\u0000\u0000\u0000 \u0000\u0000\u0000 \u0000\u0000\u0000$\u0000\u0000\u0000$\u0000\u0000\u0000/\u0000\u0000\u0000 \u0000\u0000\u0000 \u0000\u0000\u0000 \u0000\u0000\u0000|\u0000\u0000\u0000 \u0000\u0000\u0000$\u0000\u0000\u0000$\u0000\u0000\u0000 \u0000\u0000\u0000 \u0000\u0000\u0000$\u0000\u0000\u0000$\u0000\u0000\u0000$\u0000\u0000\u0000$\u0000\u0000\u0000|\u0000\u0000\u0000 \u0000\u0000\u0000$\u0000\u0000\u0000$\u0000\u0000\u0000 \u0000\u0000\u0000 \u0000\u0000\u0000|\u0000\u0000\u0000 \u0000\u0000\u0000$\u0000\u0000\u0000$\u0000\u0000\u0000\n",
      "\u0000\u0000\u0000|\u0000\u0000\u0000 \u0000\u0000\u0000$\u0000\u0000\u0000$\u0000\u0000\u0000 \u0000\u0000\u0000 \u0000\u0000\u0000 \u0000\u0000\u0000 \u0000\u0000\u0000 \u0000\u0000\u0000 \u0000\u0000\u0000 \u0000\u0000\u0000 \u0000\u0000\u0000 \u0000\u0000\u0000 \u0000\u0000\u0000|\u0000\u0000\u0000 \u0000\u0000\u0000$\u0000\u0000\u0000$\u0000\u0000\u0000 \u0000\u0000\u0000 \u0000\u0000\u0000 \u0000\u0000\u0000 \u0000\u0000\u0000|\u0000\u0000\u0000 \u0000\u0000\u0000$\u0000\u0000\u0000$\u0000\u0000\u0000\\\u0000\u0000\u0000 \u0000\u0000\u0000 \u0000\u0000\u0000$\u0000\u0000\u0000$\u0000\u0000\u0000$\u0000\u0000\u0000|\u0000\u0000\u0000 \u0000\u0000\u0000$\u0000\u0000\u0000$\u0000\u0000\u0000/\u0000\u0000\u0000$\u0000\u0000\u0000$\u0000\u0000\u0000 \u0000\u0000\u0000$\u0000\u0000\u0000$\u0000\u0000\u0000\n",
      "\u0000\u0000\u0000|\u0000\u0000\u0000 \u0000\u0000\u0000$\u0000\u0000\u0000$\u0000\u0000\u0000 \u0000\u0000\u0000 \u0000\u0000\u0000 \u0000\u0000\u0000 \u0000\u0000\u0000 \u0000\u0000\u0000 \u0000\u0000\u0000 \u0000\u0000\u0000 \u0000\u0000\u0000 \u0000\u0000\u0000 \u0000\u0000\u0000|\u0000\u0000\u0000 \u0000\u0000\u0000$\u0000\u0000\u0000$\u0000\u0000\u0000 \u0000\u0000\u0000 \u0000\u0000\u0000 \u0000\u0000\u0000 \u0000\u0000\u0000|\u0000\u0000\u0000 \u0000\u0000\u0000$\u0000\u0000\u0000$\u0000\u0000\u0000 \u0000\u0000\u0000\\\u0000\u0000\u0000 \u0000\u0000\u0000 \u0000\u0000\u0000$\u0000\u0000\u0000$\u0000\u0000\u0000|\u0000\u0000\u0000 \u0000\u0000\u0000 \u0000\u0000\u0000$\u0000\u0000\u0000$\u0000\u0000\u0000$\u0000\u0000\u0000$\u0000\u0000\u0000$\u0000\u0000\u0000$\u0000\u0000\u0000/\u0000\u0000\u0000\n",
      "\u0000\u0000\u0000|\u0000\u0000\u0000_\u0000\u0000\u0000_\u0000\u0000\u0000/\u0000\u0000\u0000 \u0000\u0000\u0000 \u0000\u0000\u0000 \u0000\u0000\u0000 \u0000\u0000\u0000 \u0000\u0000\u0000 \u0000\u0000\u0000 \u0000\u0000\u0000 \u0000\u0000\u0000 \u0000\u0000\u0000 \u0000\u0000\u0000|\u0000\u0000\u0000_\u0000\u0000\u0000_\u0000\u0000\u0000/\u0000\u0000\u0000 \u0000\u0000\u0000 \u0000\u0000\u0000 \u0000\u0000\u0000 \u0000\u0000\u0000|\u0000\u0000\u0000_\u0000\u0000\u0000_\u0000\u0000\u0000/\u0000\u0000\u0000 \u0000\u0000\u0000 \u0000\u0000\u0000\\\u0000\u0000\u0000_\u0000\u0000\u0000_\u0000\u0000\u0000/\u0000\u0000\u0000 \u0000\u0000\u0000\\\u0000\u0000\u0000_\u0000\u0000\u0000_\u0000\u0000\u0000_\u0000\u0000\u0000_\u0000\u0000\u0000 \u0000\u0000\u0000$\u0000\u0000\u0000$\u0000\u0000\u0000$\u0000\u0000\u0000\n",
      "\u0000\u0000\u0000 \u0000\u0000\u0000 \u0000\u0000\u0000 \u0000\u0000\u0000 \u0000\u0000\u0000 \u0000\u0000\u0000 \u0000\u0000\u0000 \u0000\u0000\u0000 \u0000\u0000\u0000 \u0000\u0000\u0000 \u0000\u0000\u0000 \u0000\u0000\u0000 \u0000\u0000\u0000 \u0000\u0000\u0000 \u0000\u0000\u0000 \u0000\u0000\u0000 \u0000\u0000\u0000 \u0000\u0000\u0000 \u0000\u0000\u0000 \u0000\u0000\u0000 \u0000\u0000\u0000 \u0000\u0000\u0000 \u0000\u0000\u0000 \u0000\u0000\u0000 \u0000\u0000\u0000 \u0000\u0000\u0000 \u0000\u0000\u0000 \u0000\u0000\u0000 \u0000\u0000\u0000 \u0000\u0000\u0000 \u0000\u0000\u0000 \u0000\u0000\u0000 \u0000\u0000\u0000 \u0000\u0000\u0000 \u0000\u0000\u0000 \u0000\u0000\u0000 \u0000\u0000\u0000 \u0000\u0000\u0000 \u0000\u0000\u0000\\\u0000\u0000\u0000_\u0000\u0000\u0000_\u0000\u0000\u0000/\u0000\u0000\u0000\n",
      "\u0000\u0000\u0000\n",
      "\u0000\u0000\u0000 \u0000\u0000\u0000 \u0000\u0000\u0000 \u0000\u0000\u0000 \u0000\u0000\u0000 \u0000\u0000\u0000 \u0000\u0000\u0000 \u0000\u0000\u0000 \u0000\u0000\u0000 \u0000\u0000\u0000 \u0000\u0000\u0000 \u0000\u0000\u0000 \u0000\u0000\u0000 \u0000\u0000\u0000 \u0000\u0000\u0000 \u0000\u0000\u0000 \u0000\u0000\u0000 \u0000\u0000\u0000 \u0000\u0000\u0000 \u0000\u0000\u0000 \u0000\u0000\u0000 \u0000\u0000\u0000 \u0000\u0000\u0000 \u0000\u0000\u0000 \u0000\u0000\u0000 \u0000\u0000\u0000 \u0000\u0000\u0000 \u0000\u0000\u0000 \u0000\u0000\u0000 \u0000\u0000\u0000 \u0000\u0000\u0000 \u0000\u0000\u0000 \u0000\u0000\u0000 \u0000\u0000\u0000 \u0000\u0000\u0000 \u0000\u0000\u0000 \u0000\u0000\u0000 \u0000\u0000\u0000 \u0000\u0000\u0000 \u0000\u0000\u0000 \u0000\u0000\u0000 \u0000\u0000\u0000 \u0000\u0000\u0000\n",
      "\u0000\u0000\u0000 \u0000\u0000\u0000 \u0000\u0000\u0000 \u0000\u0000\u0000 \u0000\u0000\u0000 \u0000\u0000\u0000 \u0000\u0000\u0000 \u0000\u0000\u0000 \u0000\u0000\u0000 \u0000\u0000\u0000 \u0000\u0000\u0000 \u0000\u0000\u0000 \u0000\u0000\u0000 \u0000\u0000\u0000 \u0000\u0000\u0000 \u0000\u0000\u0000 \u0000\u0000\u0000 \u0000\u0000\u0000 \u0000\u0000\u0000 \u0000\u0000\u0000 \u0000\u0000\u0000 \u0000\u0000\u0000 \u0000\u0000\u0000 \u0000\u0000\u0000 \u0000\u0000\u0000 \u0000\u0000\u0000 \u0000\u0000\u0000 \u0000\u0000\u0000 \u0000\u0000\u0000 \u0000\u0000\u0000 \u0000\u0000\u0000 \u0000\u0000\u0000 \u0000\u0000\u0000 \u0000\u0000\u0000 \u0000\u0000\u0000 \u0000\u0000\u0000 \u0000\u0000\u0000 \u0000\u0000\u0000 \u0000\u0000\u0000 \u0000\u0000\u0000 \u0000\u0000\u0000 \u0000\u0000\u0000\n"
     ]
    }
   ],
   "source": [
    "# Decode output data\n",
    "packets_out = bytes(dma_buf_out)\n",
    "print(packets_out.decode())"
   ]
  },
  {
   "cell_type": "code",
   "execution_count": 7,
   "id": "01d5f95f-fa8e-46bb-b5f8-cf534cbe3b07",
   "metadata": {},
   "outputs": [
    {
     "data": {
      "text/plain": [
       "True"
      ]
     },
     "execution_count": 7,
     "metadata": {},
     "output_type": "execute_result"
    }
   ],
   "source": [
    "# Another way to verify core functionality\n",
    "np.array_equal(dma_buf_in,dma_buf_out)\n",
    "# returns True if the xmit and recv buffers are equal"
   ]
  },
  {
   "cell_type": "markdown",
   "id": "e5ffbd90-a147-4e05-a9fb-f8f60acf8c93",
   "metadata": {},
   "source": [
    "# Conclusion:\n",
    "* Verify that the upper-right SFP socket functions for both internal and external loopback mode configurations."
   ]
  }
 ],
 "metadata": {
  "kernelspec": {
   "display_name": "Python 3 (ipykernel)",
   "language": "python",
   "name": "python3"
  },
  "language_info": {
   "codemirror_mode": {
    "name": "ipython",
    "version": 3
   },
   "file_extension": ".py",
   "mimetype": "text/x-python",
   "name": "python",
   "nbconvert_exporter": "python",
   "pygments_lexer": "ipython3",
   "version": "3.10.5"
  },
  "vscode": {
   "interpreter": {
    "hash": "4d2633862f41f27d9b46e81f1ba1c78420cd082f001c942a35ba297c53b87da8"
   }
  }
 },
 "nbformat": 4,
 "nbformat_minor": 5
}
