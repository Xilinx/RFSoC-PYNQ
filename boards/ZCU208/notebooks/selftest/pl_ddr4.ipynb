{
 "cells": [
  {
   "cell_type": "markdown",
   "metadata": {},
   "source": [
    "# Board PL DDR4\n",
    "----"
   ]
  },
  {
   "cell_type": "markdown",
   "metadata": {},
   "source": [
    "## Aim/s\n",
    "* Use `pynq` MMIO class to probe the PL DDR4 memory controller in the base overlay.\n",
    "\n",
    "## References\n",
    "* [PYNQ MMIO class](https://pynq.readthedocs.io/en/latest/pynq_libraries/mmio.html?highlight=MMIO)\n",
    "\n",
    "## Last revised\n",
    "* 27Jan21 - Initial revision\n",
    "----"
   ]
  },
  {
   "cell_type": "markdown",
   "metadata": {},
   "source": [
    "## Probe DDR4 memory controller"
   ]
  },
  {
   "cell_type": "code",
   "execution_count": 62,
   "metadata": {},
   "outputs": [],
   "source": [
    "from pynq.overlays.base import BaseOverlay\n",
    "from pynq import MMIO\n",
    "import numpy as np\n",
    "base = BaseOverlay(\"base.bit\")"
   ]
  },
  {
   "cell_type": "markdown",
   "metadata": {},
   "source": [
    "The base address, size and range of the PL DDR4 memory is extracted from the mem_dict dictionary.\n"
   ]
  },
  {
   "cell_type": "code",
   "execution_count": 72,
   "metadata": {},
   "outputs": [
    {
     "name": "stdout",
     "output_type": "stream",
     "text": [
      "PL DDR4 found at physical address: 0x400000000\n",
      "\t\t\t     Size: 0xffffffff\n"
     ]
    }
   ],
   "source": [
    "baseAddress = base.mem_dict[\"DSPmemory/DSPddr4\"][\"phys_addr\"]\n",
    "mem_range = base.mem_dict[\"DSPmemory/DSPddr4\"][\"addr_range\"]\n",
    "print(\"PL DDR4 found at physical address:\", hex(baseAddress))\n",
    "print(\"\\t\\t\\t     Size:\", hex(mem_range-1));\n",
    "mmio = MMIO(baseAddress, mem_range)"
   ]
  },
  {
   "cell_type": "markdown",
   "metadata": {},
   "source": [
    "Now we can peak and poke memory locations within the DRAM memory range.\n",
    "For simplicity, we will just write a number 23 to address 0x0,\n",
    "and write 0xDEADBEEF to address 0x00_E000_0000."
   ]
  },
  {
   "cell_type": "code",
   "execution_count": 79,
   "metadata": {},
   "outputs": [
    {
     "data": {
      "text/plain": [
       "23"
      ]
     },
     "execution_count": 79,
     "metadata": {},
     "output_type": "execute_result"
    }
   ],
   "source": [
    "mmio.write(0x00, 23)\n",
    "mmio.read(0x00)"
   ]
  },
  {
   "cell_type": "code",
   "execution_count": 80,
   "metadata": {},
   "outputs": [
    {
     "data": {
      "text/plain": [
       "'0xdeadbeef'"
      ]
     },
     "execution_count": 80,
     "metadata": {},
     "output_type": "execute_result"
    }
   ],
   "source": [
    "mmio.write(0x00_E000_0000, 0xDEADBEEF)\n",
    "hex(mmio.read(0x00_E000_0000))"
   ]
  },
  {
   "cell_type": "code",
   "execution_count": 81,
   "metadata": {},
   "outputs": [
    {
     "data": {
      "text/plain": [
       "'0xaaaacccc'"
      ]
     },
     "execution_count": 81,
     "metadata": {},
     "output_type": "execute_result"
    }
   ],
   "source": [
    "mmio.write(0x00_A000_0000, 0xAAAACCCC)\n",
    "hex(mmio.read(0x00_A000_0000))"
   ]
  },
  {
   "cell_type": "code",
   "execution_count": 83,
   "metadata": {},
   "outputs": [
    {
     "data": {
      "text/plain": [
       "'0x1234567'"
      ]
     },
     "execution_count": 83,
     "metadata": {},
     "output_type": "execute_result"
    }
   ],
   "source": [
    "mmio.write(0x00_F000_0000, 0x01234567)\n",
    "hex(mmio.read(0x00_F000_0000))"
   ]
  },
  {
   "cell_type": "markdown",
   "metadata": {},
   "source": [
    "<div class=\"alert alert-box alert-success\">\n",
    "You should be able to see consistent results;\n",
    "this means the PL DDR4 is working fine.\n",
    "</div>"
   ]
  },
  {
   "cell_type": "markdown",
   "metadata": {},
   "source": [
    "---\n",
    "Copyright (C) 2022 Xilinx, Inc\n",
    "\n",
    "SPDX-License-Identifier: BSD-3-Clause"
   ]
  },
  {
   "cell_type": "markdown",
   "metadata": {},
   "source": [
    "----\n",
    "\n",
    "----"
   ]
  }
 ],
 "metadata": {
  "kernelspec": {
   "display_name": "Python 3 (ipykernel)",
   "language": "python",
   "name": "python3"
  },
  "language_info": {
   "codemirror_mode": {
    "name": "ipython",
    "version": 3
   },
   "file_extension": ".py",
   "mimetype": "text/x-python",
   "name": "python",
   "nbconvert_exporter": "python",
   "pygments_lexer": "ipython3",
   "version": "3.10.4"
  }
 },
 "nbformat": 4,
 "nbformat_minor": 4
}
