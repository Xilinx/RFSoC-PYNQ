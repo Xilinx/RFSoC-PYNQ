{
 "cells": [
  {
   "cell_type": "markdown",
   "metadata": {},
   "source": [
    "# USB Webcam\n",
    "----"
   ]
  },
  {
   "cell_type": "markdown",
   "metadata": {},
   "source": [
    "## Aim/s\n",
    "* Capture images with the webcam through kernel commands in Jupyter\n",
    "* Open images and manipulate with the Python Image Library.\n",
    "\n",
    "## References\n",
    "* [PYNQ docs](https://pynq.readthedocs.io/en/latest/index.html)\n",
    "* [Pillow docs](http://pillow.readthedocs.org/en/3.1.x/handbook/tutorial.html)\n",
    "* [fswebcam manpage](http://manpages.ubuntu.com/manpages/lucid/man1/fswebcam.1.html)\n",
    "* [Logitech C270 HD Webcam](http://www.logitech.com/en-us/product/hd-webcam-c270)\n",
    "\n",
    "## Last revised\n",
    "* 27Jan21\n",
    "    * Initial revision\n",
    "----"
   ]
  },
  {
   "cell_type": "markdown",
   "metadata": {},
   "source": [
    "This notebook shows how to use a USB web camera attached to the board. An image is captured using [fswebcam](http://manpages.ubuntu.com/manpages/wily/man1/fswebcam.1.html). The image can then be manipulated using the Python Image Library (Pillow).\n",
    "\n",
    "The webcam used is the Logitech USB HD Webcam C270 and the driver for this webcam has already been installed on the board."
   ]
  },
  {
   "cell_type": "code",
   "execution_count": null,
   "metadata": {},
   "outputs": [],
   "source": [
    "from PIL import Image as PIL_Image\n",
    "\n",
    "orig_img_path = \"/home/xilinx/jupyter_notebooks/common/data/webcam.jpg\"\n",
    "\n",
    "!fswebcam  --no-banner --save {orig_img_path} -d /dev/video0 2> /dev/null\n",
    "\n",
    "img = PIL_Image.open(orig_img_path)\n",
    "img"
   ]
  },
  {
   "cell_type": "code",
   "execution_count": null,
   "metadata": {},
   "outputs": [],
   "source": [
    "bw_img = img.convert(\"L\")\n",
    "bw_img"
   ]
  },
  {
   "cell_type": "code",
   "execution_count": null,
   "metadata": {
    "scrolled": true
   },
   "outputs": [],
   "source": [
    "rot_img = img.rotate(45)\n",
    "rot_img"
   ]
  },
  {
   "cell_type": "markdown",
   "metadata": {},
   "source": [
    "Copyright (C) 2022 Xilinx, Inc\n",
    "\n",
    "SPDX-License-Identifier: BSD-3-Clause"
   ]
  },
  {
   "cell_type": "markdown",
   "metadata": {},
   "source": [
    "----\n",
    "\n",
    "----"
   ]
  }
 ],
 "metadata": {
  "kernelspec": {
   "display_name": "Python 3",
   "language": "python",
   "name": "python3"
  },
  "language_info": {
   "codemirror_mode": {
    "name": "ipython",
    "version": 3
   },
   "file_extension": ".py",
   "mimetype": "text/x-python",
   "name": "python",
   "nbconvert_exporter": "python",
   "pygments_lexer": "ipython3",
   "version": "3.8.2"
  }
 },
 "nbformat": 4,
 "nbformat_minor": 4
}
