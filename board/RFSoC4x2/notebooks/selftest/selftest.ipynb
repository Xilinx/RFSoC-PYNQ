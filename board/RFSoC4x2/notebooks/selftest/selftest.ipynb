{
 "cells": [
  {
   "cell_type": "markdown",
   "metadata": {},
   "source": [
    "# RFSoC4x2 Board Self Test\n",
    "----"
   ]
  },
  {
   "cell_type": "markdown",
   "metadata": {},
   "source": [
    "![](./data/rfsoc_selftest.png)\n",
    "\n",
    "## Aims\n",
    "\n",
    "* Enumerate notebooks and tests to verify the RFSoC4x2 board works as expected.\n",
    "* Give RFSoC4x2 users a set of tests to report any issues to the PYNQ team."
   ]
  },
  {
   "cell_type": "markdown",
   "metadata": {},
   "source": [
    "## Table of Contents\n",
    "\n",
    "* [1. RFDC Tests](#1.-RFDC-Tests)\n",
    "* [2. OLED Tests](#2.-OLED-Tests)\n",
    "* [3. Ethernet Tests](#3.-Ethernet-Tests)\n",
    "* [4. QSFP/CMAC Loopback Test](#4.-QSFP/CMAC-Loopback-Test)\n",
    "* [5. USB Tests](#5.-USB-Tests)\n",
    "* [6. Display Port Tests](#6.-Display-Port-Tests)\n",
    "* [7. PMOD Tests](#7.-PMOD-Tests)\n",
    "* [8. SYZYGY Tests](#8.-SYZYGY-Tests)\n",
    "* [9. Buttons/LEDs/Switches Tests](#9.-Buttons/LEDs/Switches-Tests)\n",
    "\n",
    "----"
   ]
  },
  {
   "cell_type": "markdown",
   "metadata": {},
   "source": [
    "## 1. RFDC Tests\n",
    "\n",
    "Please run the spectrum sweep notebook included to verify\n",
    "RFDC functionality on your RFSoC4x2 board.  \n",
    "\n",
    "This test requires two SMA cables connected as shown in\n",
    "that notebook.\n",
    "\n",
    "[Spectrum Sweep Notebook](../base/rfdc/03_rf_spectrum_sweep.ipynb)\n",
    "\n",
    "---"
   ]
  },
  {
   "cell_type": "markdown",
   "metadata": {},
   "source": [
    "## 2. OLED Tests\n",
    "Please run the OLED display notebooks included to verify\n",
    "OLED functionality on your RFSoC4x2 board.\n",
    "\n",
    "[OLED Display Notebook](../../base/board/oled_display.ipynb)\n",
    "\n",
    "---"
   ]
  },
  {
   "cell_type": "markdown",
   "metadata": {},
   "source": [
    "## 3. Ethernet Tests\n",
    "\n",
    "Please run the following bash calls to verify your Ethernet\n",
    "port is working or to report to the PYNQ team current status.\n",
    "\n",
    "For the `ping` system call, you can change 'www.xilinx.com' to\n",
    "other websites that allow pinging.\n",
    "\n",
    "<div class=\"alert alert-box alert-info\">\n",
    "The Ethernet port will not get an IP address if not connected to\n",
    "a DHCP enabled router.\n",
    "</div>"
   ]
  },
  {
   "cell_type": "code",
   "execution_count": null,
   "metadata": {},
   "outputs": [],
   "source": [
    "! ifconfig eth0\n",
    "! ifconfig eth0:1\n",
    "! ping www.amd.com -c 3"
   ]
  },
  {
   "cell_type": "markdown",
   "metadata": {},
   "source": [
    "----"
   ]
  },
  {
   "cell_type": "markdown",
   "metadata": {},
   "source": [
    "## 4. QSFP/CMAC Loopback Test\n",
    "\n",
    "Please run the included CMAC notebook to verify your CMAC connection.  \n",
    "\n",
    "[QSFP/CMAC Notebook](../../base/board/CMAC_Intro.ipynb)\n",
    "\n",
    "\n",
    "----"
   ]
  },
  {
   "cell_type": "markdown",
   "metadata": {},
   "source": [
    "## 5. USB Tests\n",
    "\n",
    "Please run the WebCam or WiFi notebooks included to verify\n",
    "USB functionality on your RFSoC4x2 board.\n",
    "\n",
    "[USB Webcam Notebook](../common/usb_webcam.ipynb)\n",
    "\n",
    "[USB WiFi Notebook](../common/wifi.ipynb)\n",
    "\n",
    "If you have a flash drive, you can insert that drive into a \n",
    "USB port and run the following bash calls to see that the \n",
    "device has correctly shown up in Linux."
   ]
  },
  {
   "cell_type": "code",
   "execution_count": null,
   "metadata": {},
   "outputs": [],
   "source": [
    "!lsblk | grep sd"
   ]
  },
  {
   "cell_type": "markdown",
   "metadata": {},
   "source": [
    "Suppose your part is shown as `sda1`, then you can run\n",
    "the following bash command; you can adjust the `DEV` to\n",
    "match what device entry shown above.\n",
    "```bash\n",
    "export DEV=sda1\n",
    "mkdir usbflash\n",
    "mount /dev/$DEV usbflash\n",
    "```\n",
    "\n",
    "To see usbflash files:\n",
    "```bash\n",
    "ls usbflash\n",
    "```\n",
    "\n",
    "Finally, clean up everything.\n",
    "```bash\n",
    "umount usbflash && rm -rf usbflash\n",
    "```\n",
    "\n",
    "----"
   ]
  },
  {
   "cell_type": "markdown",
   "metadata": {},
   "source": [
    "## 6. Display Port Tests\n",
    "\n",
    "Please Run the Display Port (DP) notebook included to verify \n",
    "functionality on your RFSoC4x2 board.\n",
    "\n",
    "[Display Port Notebook](../common/display_port_introduction.ipynb)\n",
    "\n",
    "----"
   ]
  },
  {
   "cell_type": "markdown",
   "metadata": {},
   "source": [
    "## 7. PMOD Tests\n",
    "\n",
    "Please use a support PMOD device and run the appropriate\n",
    "notebook to test PMOD ports on your RFSoC4x2 board.\n",
    "\n",
    "[PMOD Temperature Sensor Notebook](../../base/pmod/pmod_tmp2.ipynb)\n",
    "\n",
    "----"
   ]
  },
  {
   "cell_type": "markdown",
   "metadata": {},
   "source": [
    "## 8. SYZYGY Tests\n",
    "\n",
    "Please run the included SYZYGY notebook to verify your SYZYGY connection.\n",
    "Please turn off board, connect the SYZYGY device and run the following\n",
    "notebook.  \n",
    "\n",
    "<div class=\"alert alert-box alert-danger\">\n",
    "Per the SYZYGY standard, we do not support hot-plugging of SYZYGY devices on this board.\n",
    "</div>\n",
    "\n",
    "[SYZYGY Loopback Notebook](../../base/board/syzygy_loopback.ipynb)\n",
    "\n",
    "----"
   ]
  },
  {
   "cell_type": "markdown",
   "metadata": {},
   "source": [
    "## 9. Buttons/LEDs/Switches Tests\n",
    "\n",
    "Please run the included board GPIO notebook to verify your GPIO connections.  \n",
    "\n",
    "[Buttons, LEDs, Switches Notebook](../../base/board/buttons_leds_switches.ipynb)\n",
    "\n",
    "\n",
    "----"
   ]
  },
  {
   "cell_type": "markdown",
   "metadata": {},
   "source": [
    "## Summary\n",
    "\n",
    "The above notebooks and tests were selected to help users\n",
    "verify the board's I/O and connectors.\n",
    "\n",
    "For questions related to these notebooks or other functionality\n",
    "with PYNQ or this board - please visit the PYNQ forum at\n",
    "[discuss.pynq.io](https://discuss.pynq.io). \n",
    "\n",
    "----"
   ]
  },
  {
   "cell_type": "markdown",
   "metadata": {},
   "source": [
    "## Last revised\n",
    "\n",
    "* 25Feb22 - Initial Revision\n",
    "\n",
    "---\n",
    "\n",
    "Copyright (C) 2022 Xilinx, Inc\n",
    "\n",
    "SPDX-License-Identifier: BSD-3-Clause"
   ]
  },
  {
   "cell_type": "markdown",
   "metadata": {},
   "source": [
    "----\n",
    "\n",
    "----"
   ]
  }
 ],
 "metadata": {
  "kernelspec": {
   "display_name": "Python 3",
   "language": "python",
   "name": "python3"
  },
  "language_info": {
   "codemirror_mode": {
    "name": "ipython",
    "version": 3
   },
   "file_extension": ".py",
   "mimetype": "text/x-python",
   "name": "python",
   "nbconvert_exporter": "python",
   "pygments_lexer": "ipython3",
   "version": "3.8.2"
  }
 },
 "nbformat": 4,
 "nbformat_minor": 4
}
